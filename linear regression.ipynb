
{
 "cells": [
  {
   "cell_type": "code",
   "execution_count": 1,
   "metadata": {},
   "outputs": [],
   "source": [
    "import numpy as np\n",
    "import pandas as pd \n",
    "import matplotlib.pyplot as plt\n",
    "from matplotlib.pylab import rcParams\n",
    "from sklearn.datasets import make_regression\n",
    "from sklearn.model_selection import train_test_split"
   ]
  },
  {
   "cell_type": "code",
   "execution_count": 2,
   "metadata": {},
   "outputs": [],
   "source": [
    "%matplotlib inline\n",
    "\n",
    "params = { 'axes.titlesize' : 'xx-large',\n",
    "           'axes.labelsize' : 'x-large',\n",
    "           'figure.figsize' : (8,6)\n",
    "         }\n",
    "\n",
    "rcParams.update(params)\n"
   ]
  },
  {
   "cell_type": "code",
   "execution_count": 3,
   "metadata": {},
   "outputs": [],
   "source": [
    "M=100\n",
    "\n",
    "n=1\n",
    "\n",
    "l_r=0.05\n",
    "\n",
    "epochs=80"
   ]
  },
  {
   "cell_type": "code",
   "execution_count": 4,
   "metadata": {},
   "outputs": [],
   "source": [
    "x, y = make_regression(n_samples=M, n_features=n,n_informative=n, n_targets=1, noise=10, random_state=42)"
   ]
  },
  {
   "cell_type": "code",
   "execution_count": 5,
   "metadata": {},
   "outputs": [],
   "source": [
    "def plot_graph(x,y):\n",
    "    \n",
    "    plt.scatter(x, y, alpha=0.8)\n",
    "    plt.title('dataset')\n",
    "    plt.xlabel('X')\n",
    "    plt.ylabel('Y')\n",
    "    \n",
    "    plt.show()"
   ]
  },
  {
   "cell_type": "code",
   "execution_count": 6,
   "metadata": {},
   "outputs": [
    {
     "data": {
      "image/png": "[encoded data removed]",
      "text/plain": [
       "<Figure size 576x432 with 1 Axes>"
      ]
     },
     "metadata": {
      "needs_background": "light"
     },
     "output_type": "display_data"
    }
   ],
   "source": [
    "plot_graph(x,y)"
   ]
  },
  {
   "cell_type": "code",
   "execution_count": 7,
   "metadata": {},
   "outputs": [
    {
     "name": "stdout",
     "output_type": "stream",
     "text": [
      "shape of vector : (100, 1)\n",
      "shape of vector : (100,)\n"
     ]
    }
   ],
   "source": [
    "print('shape of vector :',x.shape)\n",
    "print('shape of vector :',y.shape)"
   ]
  },
  {
   "cell_type": "code",
   "execution_count": 8,
   "metadata": {},
   "outputs": [],
   "source": [
    "def reset_sizes(*args):\n",
    "    \n",
    "    return tuple(arg.reshape((arg.shape[0],1)) for arg in args)\n",
    "    \n",
    "    "
   ]
  },
  {
   "cell_type": "code",
   "execution_count": 9,
   "metadata": {},
   "outputs": [],
   "source": [
    "x, y = reset_sizes(x,y)"
   ]
  },
  {
   "cell_type": "code",
   "execution_count": 10,
   "metadata": {},
   "outputs": [
    {
     "name": "stdout",
     "output_type": "stream",
     "text": [
      "(100, 1)\n",
      "(100, 1)\n"
     ]
    }
   ],
   "source": [
    "print(x.shape)\n",
    "print(y.shape)\n"
   ]
  },
  {
   "cell_type": "code",
   "execution_count": 11,
   "metadata": {},
   "outputs": [],
   "source": [
    "x_train,x_test,y_train,y_test = train_test_split(x, y, test_size=0.2)"
   ]
  },
  {
   "cell_type": "code",
   "execution_count": 12,
   "metadata": {},
   "outputs": [
    {
     "data": {
      "text/plain": [
       "(80, 1)"
      ]
     },
     "execution_count": 12,
     "metadata": {},
     "output_type": "execute_result"
    }
   ],
   "source": [
    "y_train.shape"
   ]
  },
  {
   "cell_type": "code",
   "execution_count": 13,
   "metadata": {},
   "outputs": [],
   "source": [
    "def init_params():\n",
    "    \n",
    "    m=np.random.normal(scale=10)\n",
    "    b=np.random.normal(scale=10)\n",
    "    \n",
    "    return m,b"
   ]
  },
  {
   "cell_type": "code",
   "execution_count": 14,
   "metadata": {},
   "outputs": [],
   "source": [
    "m, b = init_params()"
   ]
  },
  {
   "cell_type": "code",
   "execution_count": 15,
   "metadata": {},
   "outputs": [],
   "source": [
    "def plot_graph(dataset, pred_line=None):\n",
    "    \n",
    "    x, y = dataset['x'], dataset['y']\n",
    "    \n",
    "    plt.scatter(x, y, alpha=0.8)\n",
    "    \n",
    "    if(pred_line != None):\n",
    "        \n",
    "        x_line, y_line =  pred_line['x_line'], pred_line['y_line']\n",
    "        plt.plot(x_line ,y_line, linewidth=2, markersize=12, color='green', alpha=0.8)\n",
    "        plt.title('predicted line on dataset')\n",
    " \n",
    "    else:\n",
    "            \n",
    "            plt.title('dataset')\n",
    "            plt.xlabel('X')\n",
    "            plt.ylabel('Y')\n",
    "plt.show()\n",
    "    "
   ]
  },
  {
   "cell_type": "code",
   "execution_count": 16,
   "metadata": {},
   "outputs": [],
   "source": [
    "def plot_pred_line(x, y, m, b):\n",
    "    \n",
    "    x_line = np.linspace(np.min(x),np.max(x),10)\n",
    "    \n",
    "    y_line = m * x_line + b\n",
    "    \n",
    "    dataset = {'x': x , 'y': y}\n",
    "    \n",
    "    pred_line = {'x_line' : x_line, 'y_line': y_line}\n",
    "    \n",
    "    plot_graph(dataset, pred_line)\n",
    "    \n",
    "    return"
   ]
  },
  {
   "cell_type": "code",
   "execution_count": 17,
   "metadata": {},
   "outputs": [
    {
     "data": {
      "image/png": "[encoded data removed]",
      "text/plain": [
       "<Figure size 576x432 with 1 Axes>"
      ]
     },
     "metadata": {
      "needs_background": "light"
     },
     "output_type": "display_data"
    }
   ],
   "source": [
    "plot_pred_line(x_train, y_train ,m , b)"
   ]
  },
  {
   "cell_type": "code",
   "execution_count": 18,
   "metadata": {},
   "outputs": [],
   "source": [
    "def forward_prop(x,m,b):\n",
    "    \n",
    "    y_pred = m * x + b\n",
    "    \n",
    "    return y_pred"
   ]
  },
  {
   "cell_type": "code",
   "execution_count": 19,
   "metadata": {},
   "outputs": [],
   "source": [
    "y_pred = forward_prop(x_train, m , b)"
   ]
  },
  {
   "cell_type": "code",
   "execution_count": 20,
   "metadata": {},
   "outputs": [],
   "source": [
    "def compute_loss(y,y_pred):\n",
    "    \n",
    "    loss = 1 / 2 * np.mean ((y-y_pred)**2)\n",
    "    \n",
    "    return loss"
   ]
  },
  {
   "cell_type": "code",
   "execution_count": 21,
   "metadata": {},
   "outputs": [],
   "source": [
    "losses = []"
   ]
  },
  {
   "cell_type": "code",
   "execution_count": 22,
   "metadata": {},
   "outputs": [
    {
     "name": "stdout",
     "output_type": "stream",
     "text": [
      "1672.2221511087926\n"
     ]
    }
   ],
   "source": [
    "loss = compute_loss(y_train, y_pred) \n",
    "losses.append(loss)\n",
    "print(loss)\n"
   ]
  },
  {
   "cell_type": "code",
   "execution_count": 23,
   "metadata": {},
   "outputs": [],
   "source": [
    "def plot_graph(dataset, pred_line, losses=None):\n",
    "    \n",
    "    plots = 2 if (losses!=None) else 1\n",
    "    \n",
    "    fig = plt.figure(figsize=(8 * plots, 6))\n",
    "    \n",
    "    x, y = dataset['x'], dataset['y']\n",
    "    \n",
    "    x_line , y_line = pred_line['x_line'], pred_line['y_line']\n",
    "    \n",
    "    ax1 = fig.add_subplot(1, plots , 1)\n",
    "\n",
    "    ax1.scatter(x , y, alpha=0.8)\n",
    "    \n",
    "    if(pred_line != None):\n",
    "        \n",
    "        x_line, y_line = pred_line['x_line'], pred_line['y_line']\n",
    "    \n",
    "        ax1.plot(x_line, y_line, linewidth= 2,markersize=14,color = 'green',alpha=0.8)\n",
    "    \n",
    "        ax1.set_title('line on dataset')\n",
    "    \n",
    "    else:\n",
    "        \n",
    "        ax1.set_title('dataset')\n",
    "        \n",
    "        ax1.set_xlabel('X')\n",
    "        ax1.set_ylabel('Y')\n",
    "        \n",
    "        \n",
    "    if(losses!=None):\n",
    "        \n",
    "        ax2 = fig.add_subplot(1, plots, 2)\n",
    "        \n",
    "        ax2.plot(np.arange(len(losses)),losses, marker='o')\n",
    "        \n",
    "        ax2.set_title('loss')\n",
    "        \n",
    "        ax2.set_xlabel('epoch')\n",
    "        ax2.set_ylabel('loss')\n",
    "    \n",
    "\n",
    "plt.show()\n",
    "        \n",
    "       "
   ]
  },
  {
   "cell_type": "code",
   "execution_count": 24,
   "metadata": {},
   "outputs": [],
   "source": [
    "def plot_pred_line(x, y, m, b, losses=None):\n",
    "    \n",
    "    x_line = np.linspace(np.max(x), np.min(x), 10)\n",
    "    \n",
    "    y_line = m * x_line + b\n",
    "    \n",
    "    dataset = {'x': x , 'y': y}\n",
    "    \n",
    "    pred_line = {'x_line' : x_line, 'y_line': y_line}\n",
    "    \n",
    "    plot_graph(dataset, pred_line, losses=losses)\n",
    "    \n",
    "    return\n",
    "   "
   ]
  },
  {
   "cell_type": "code",
   "execution_count": 25,
   "metadata": {},
   "outputs": [
    {
     "data": {
      "image/png": "[encoded data removed]",
      "text/plain": [
       "<Figure size 1152x432 with 2 Axes>"
      ]
     },
     "metadata": {
      "needs_background": "light"
     },
     "output_type": "display_data"
    }
   ],
   "source": [
    "plot_pred_line(x_train, y_train, m, b, losses)"
   ]
  },
  {
   "cell_type": "code",
   "execution_count": 26,
   "metadata": {},
   "outputs": [],
   "source": [
    "def gradient(m, b, x_train, y_train, y_pred):\n",
    "    \n",
    "    dm = np.mean((y_pred - y_train) * x_train)\n",
    "    \n",
    "    db = np.mean(y_pred - y_train)\n",
    "    \n",
    "    return dm,db"
   ]
  },
  {
   "cell_type": "code",
   "execution_count": 27,
   "metadata": {},
   "outputs": [],
   "source": [
    "def update_pramas(m, b, dm, db, l_r):\n",
    "    \n",
    "    m -= l_r * dm \n",
    "    \n",
    "    b -= l_r * db\n",
    "    \n",
    "    return m,b"
   ]
  },
  {
   "cell_type": "code",
   "execution_count": 28,
   "metadata": {},
   "outputs": [],
   "source": [
    "def gradient_desc(x_train, y_train, y_pred, m, b, l_r):\n",
    "    \n",
    "    dm, db = gradient(m, b, x_train, y_train, y_pred)\n",
    "    \n",
    "    m, b = update_params(m, b, dm, db, l_r)\n",
    "    \n",
    "    return m, b"
   ]
  },
  {
   "cell_type": "code",
   "execution_count": 29,
   "metadata": {},
   "outputs": [],
   "source": [
    "M=100\n",
    "\n",
    "n=1\n",
    "\n",
    "l_r=0.05\n",
    "\n",
    "epochs=80"
   ]
  },
  {
   "cell_type": "code",
   "execution_count": 30,
   "metadata": {},
   "outputs": [
    {
     "ename": "TypeError",
     "evalue": "plot_graph() missing 1 required positional argument: 'pred_line'",
     "output_type": "error",
     "traceback": [
      "\u001b[1;31m---------------------------------------------------------------------------\u001b[0m",
      "\u001b[1;31mTypeError\u001b[0m                                 Traceback (most recent call last)",
      "\u001b[1;32m<ipython-input-30-7c76d036250a>\u001b[0m in \u001b[0;36m<module>\u001b[1;34m\u001b[0m\n\u001b[0;32m      4\u001b[0m \u001b[0mdataset\u001b[0m \u001b[1;33m=\u001b[0m \u001b[1;33m{\u001b[0m\u001b[1;34m'x'\u001b[0m\u001b[1;33m:\u001b[0m \u001b[0mx\u001b[0m\u001b[1;33m,\u001b[0m \u001b[1;34m'y'\u001b[0m\u001b[1;33m:\u001b[0m \u001b[0my\u001b[0m\u001b[1;33m}\u001b[0m\u001b[1;33m\u001b[0m\u001b[1;33m\u001b[0m\u001b[0m\n\u001b[0;32m      5\u001b[0m \u001b[1;33m\u001b[0m\u001b[0m\n\u001b[1;32m----> 6\u001b[1;33m \u001b[0mplot_graph\u001b[0m\u001b[1;33m(\u001b[0m\u001b[0mdataset\u001b[0m\u001b[1;33m)\u001b[0m\u001b[1;33m\u001b[0m\u001b[1;33m\u001b[0m\u001b[0m\n\u001b[0m\u001b[0;32m      7\u001b[0m \u001b[1;33m\u001b[0m\u001b[0m\n\u001b[0;32m      8\u001b[0m \u001b[0mm\u001b[0m\u001b[1;33m,\u001b[0m \u001b[0mb\u001b[0m \u001b[1;33m=\u001b[0m \u001b[0minit_params\u001b[0m\u001b[1;33m(\u001b[0m\u001b[1;33m)\u001b[0m\u001b[1;33m\u001b[0m\u001b[1;33m\u001b[0m\u001b[0m\n",
      "\u001b[1;31mTypeError\u001b[0m: plot_graph() missing 1 required positional argument: 'pred_line'"
     ]
    }
   ],
   "source": [
    "x, y = make_regression(n_samples=M, n_features=n, n_informative=n, \n",
    "                         n_targets=1, random_state=42, noise=10)\n",
    "\n",
    "dataset = {'x': x, 'y': y}\n",
    "\n",
    "plot_graph(dataset)\n",
    "\n",
    "m, b = init_params()\n",
    "\n",
    "x, y = reset_sizes(x, y)\n",
    "\n",
    "x_train, x_test, y_train, y_test = train_test_split(x, y, test_size=0.2)\n",
    "\n",
    "losses = []\n",
    "\n",
    "for i in range(epochs):\n",
    "    y_pred = forward_prop(x_train, m, b)\n",
    "\n",
    "    loss = compute_loss(y_train, y_pred)\n",
    "    losses.append(loss)\n",
    "\n",
    "    m, b = grad_desc(x_train, y_train, y_pred, m, b, l_r)\n",
    "\n",
    "    if(i%10==0):\n",
    "        print('Epoch: ', i)\n",
    "        print('Loss = ', loss)\n",
    "        plot_pred_line(x_train, y_train, m, b, losses)\n",
    "\n",
    "del losses[:]"
   ]
  },
  {
   "cell_type": "code",
   "execution_count": null,
   "metadata": {},
   "outputs": [],
   "source": []
  },
  {
   "cell_type": "code",
   "execution_count": null,
   "metadata": {},
   "outputs": [],
   "source": []
  }
 ],
 "metadata": {
  "kernelspec": {
   "display_name": "Python 3",
   "language": "python",
   "name": "python3"
  },
  "language_info": {
   "codemirror_mode": {
    "name": "ipython",
    "version": 3
   },
   "file_extension": ".py",
   "mimetype": "text/x-python",
   "name": "python",
   "nbconvert_exporter": "python",
   "pygments_lexer": "ipython3",
   "version": "3.7.1"
  }
 },
 "nbformat": 4,
 
 "nbformat_minor": 2
}

